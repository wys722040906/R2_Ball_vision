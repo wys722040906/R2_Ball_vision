{
 "cells": [
  {
   "cell_type": "code",
   "execution_count": 1,
   "metadata": {},
   "outputs": [
    {
     "name": "stderr",
     "output_type": "stream",
     "text": [
      "YOLOv5 🚀 2024-3-16 torch 1.10.1+cu111 CUDA:0 (NVIDIA GeForce RTX 4050 Laptop GPU, 5898MiB)\n",
      "\n",
      "Fusing layers... \n",
      "Model Summary: 213 layers, 7020913 parameters, 0 gradients, 15.8 GFLOPs\n",
      "Adding AutoShape... \n"
     ]
    }
   ],
   "source": [
    "import torch\n",
    "import cv2\n",
    "# model = torch.hub.load(\n",
    "        #    \"/home/wys/ros_ws/src/yolov5_ros/yolov5_ros/yolov5/\",\n",
    "        #    \"custom\",\n",
    "        #     path = \"runs/train/exp8/weights/best_10000+700_you.pt\",\n",
    "        #     source='local'\n",
    "#         )\n",
    "model = torch.hub.load(\n",
    "    # 指定默认 ws  目录\n",
    "            \"/home/wys/ros_ws/src/yolov5_ros/yolov5_ros/yolov5/\",\n",
    "            \"custom\",\n",
    "            path = \"../weights/best_10000+700_you.pt\",\n",
    "            source = 'local',\n",
    "            force_reload=True\n",
    "        )\n",
    "\n",
    "# img = \"/home/wys/CLionProjects/Opencv_4h/image/basketa.png\"\n",
    "img = cv2.imread(\"/home/wys/CLionProjects/Opencv_4h/image/basket.png\")\n",
    "# img = cv2.UMat(img)\n",
    "# model = torch.hub.load(\"./\", \"yolov5s\", source=\"local\")\n",
    "# img = cv2.imread(\"/home/wys/ros_ws/src/yolov5_ros/yolov5_ros/yolov5/data/images/zidane.jpg\")\n",
    "# img = cv2.UMat(img)\n",
    "# cv2.cvtColor(img, cv2.COLOR_HSV2RGB)\n",
    "# img_shape = img.get().shape\n",
    "results = model(img)\n",
    "results.show()"
   ]
  },
  {
   "cell_type": "code",
   "execution_count": 2,
   "metadata": {},
   "outputs": [
    {
     "data": {
      "text/plain": [
       "array([[[150, 142, 139],\n",
       "        [153, 145, 142],\n",
       "        [149, 143, 140],\n",
       "        ...,\n",
       "        [145, 154, 157],\n",
       "        [147, 156, 159],\n",
       "        [ 14,  14,  14]],\n",
       "\n",
       "       [[139, 137, 138],\n",
       "        [150, 148, 149],\n",
       "        [151, 142, 143],\n",
       "        ...,\n",
       "        [150, 155, 158],\n",
       "        [150, 155, 158],\n",
       "        [ 14,  14,  14]],\n",
       "\n",
       "       [[128, 127, 131],\n",
       "        [150, 149, 153],\n",
       "        [149, 143, 140],\n",
       "        ...,\n",
       "        [155, 153, 159],\n",
       "        [155, 153, 159],\n",
       "        [ 14,  14,  14]],\n",
       "\n",
       "       ...,\n",
       "\n",
       "       [[171, 204, 211],\n",
       "        [171, 204, 211],\n",
       "        [171, 204, 211],\n",
       "        ...,\n",
       "        [161, 191, 192],\n",
       "        [161, 191, 192],\n",
       "        [ 57,  60,  60]],\n",
       "\n",
       "       [[175, 206, 205],\n",
       "        [175, 206, 205],\n",
       "        [175, 203, 211],\n",
       "        ...,\n",
       "        [163, 191, 192],\n",
       "        [163, 191, 192],\n",
       "        [ 42,  58,  73]],\n",
       "\n",
       "       [[175, 205, 206],\n",
       "        [175, 205, 206],\n",
       "        [176, 204, 205],\n",
       "        ...,\n",
       "        [157, 191, 194],\n",
       "        [157, 191, 194],\n",
       "        [ 53,  49,  47]]], dtype=uint8)"
      ]
     },
     "execution_count": 2,
     "metadata": {},
     "output_type": "execute_result"
    }
   ],
   "source": [
    "results.render()[0]"
   ]
  }
 ],
 "metadata": {
  "kernelspec": {
   "display_name": "yolov5_ros",
   "language": "python",
   "name": "python3"
  },
  "language_info": {
   "codemirror_mode": {
    "name": "ipython",
    "version": 3
   },
   "file_extension": ".py",
   "mimetype": "text/x-python",
   "name": "python",
   "nbconvert_exporter": "python",
   "pygments_lexer": "ipython3",
   "version": "3.8.18"
  }
 },
 "nbformat": 4,
 "nbformat_minor": 2
}
